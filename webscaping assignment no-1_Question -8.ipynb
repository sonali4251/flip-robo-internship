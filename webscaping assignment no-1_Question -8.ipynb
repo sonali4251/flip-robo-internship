{
 "cells": [
  {
   "cell_type": "markdown",
   "id": "6a5db1ff",
   "metadata": {},
   "source": [
    "# Write a python program to scrape mentioned news details from https://www.cnbc.com/world/?region=world :"
   ]
  },
  {
   "cell_type": "markdown",
   "id": "d3135612",
   "metadata": {},
   "source": [
    "# Program to find news links"
   ]
  },
  {
   "cell_type": "code",
   "execution_count": 2,
   "id": "f7f8a9c0",
   "metadata": {},
   "outputs": [],
   "source": [
    "#!pip install bs4\n",
    "#!pip install requests\n"
   ]
  },
  {
   "cell_type": "code",
   "execution_count": 3,
   "id": "2c0a0e05",
   "metadata": {},
   "outputs": [],
   "source": [
    "import pandas as pd\n",
    "from bs4 import BeautifulSoup \n",
    "import requests\n",
    "from lxml import html"
   ]
  },
  {
   "cell_type": "code",
   "execution_count": 4,
   "id": "34c3dfc1",
   "metadata": {},
   "outputs": [
    {
     "data": {
      "text/plain": [
       "<Response [200]>"
      ]
     },
     "execution_count": 4,
     "metadata": {},
     "output_type": "execute_result"
    }
   ],
   "source": [
    "page= requests.get('https://www.cnbc.com/world/?region=world')\n",
    "page\n"
   ]
  },
  {
   "cell_type": "code",
   "execution_count": 6,
   "id": "c3af8347",
   "metadata": {},
   "outputs": [],
   "source": [
    "soup=BeautifulSoup(page.content)"
   ]
  },
  {
   "cell_type": "code",
   "execution_count": null,
   "id": "1cc25953",
   "metadata": {},
   "outputs": [],
   "source": [
    "soup"
   ]
  },
  {
   "cell_type": "code",
   "execution_count": null,
   "id": "cec75d6d",
   "metadata": {},
   "outputs": [],
   "source": [
    "#!pip install bs4\n",
    "#!pip install requests\n"
   ]
  },
  {
   "cell_type": "code",
   "execution_count": null,
   "id": "2ac270fb",
   "metadata": {},
   "outputs": [],
   "source": [
    "import pandas as pd\n",
    "from bs4 import BeautifulSoup \n",
    "import requests\n",
    "from lxml import html"
   ]
  },
  {
   "cell_type": "code",
   "execution_count": null,
   "id": "e0162ed9",
   "metadata": {},
   "outputs": [],
   "source": [
    "import bs4\n",
    "import requests\n",
    "url=\"https://www.cnbc.com/world/?region=world\"\n",
    "data=requests.get(url)\n",
    "soup=bs4.BeautifulSoup(data.text,\"html.parser\")\n",
    "print(soup.prettify())"
   ]
  },
  {
   "cell_type": "code",
   "execution_count": null,
   "id": "2982734e",
   "metadata": {},
   "outputs": [],
   "source": [
    "for para in soup.find_all('p'):\n",
    "    print(para)"
   ]
  },
  {
   "cell_type": "code",
   "execution_count": null,
   "id": "6a01f68f",
   "metadata": {},
   "outputs": [],
   "source": [
    "print(para.text)"
   ]
  },
  {
   "cell_type": "code",
   "execution_count": null,
   "id": "ae5bf9a1",
   "metadata": {},
   "outputs": [],
   "source": [
    "for para in soup.find_all('p'):\n",
    "    print(para.text)"
   ]
  },
  {
   "cell_type": "code",
   "execution_count": 7,
   "id": "2db3ba93",
   "metadata": {},
   "outputs": [
    {
     "name": "stdout",
     "output_type": "stream",
     "text": [
      "https://www.cnbc.com/world/?region=world//www.cnbc.com/world/\n",
      "https://www.cnbc.com/world/?region=world/\n",
      "https://www.cnbc.com/world/?region=world/markets/\n",
      "https://www.cnbc.com/world/?region=world/pre-markets/\n",
      "https://www.cnbc.com/world/?region=world/us-markets/\n",
      "https://www.cnbc.com/world/?region=world/markets-europe/\n",
      "https://www.cnbc.com/world/?region=world/china-markets/\n",
      "https://www.cnbc.com/world/?region=world/markets-asia-pacific/\n",
      "https://www.cnbc.com/world/?region=world/world-markets/\n",
      "https://www.cnbc.com/world/?region=world/currencies/\n",
      "https://www.cnbc.com/world/?region=world/cryptocurrency/\n",
      "https://www.cnbc.com/world/?region=world/futures-and-commodities/\n",
      "https://www.cnbc.com/world/?region=world/bonds/\n",
      "https://www.cnbc.com/world/?region=world/funds-and-etfs/\n",
      "https://www.cnbc.com/world/?region=world/business/\n",
      "https://www.cnbc.com/world/?region=world/economy/\n",
      "https://www.cnbc.com/world/?region=world/finance/\n",
      "https://www.cnbc.com/world/?region=world/health-and-science/\n",
      "https://www.cnbc.com/world/?region=world/media/\n",
      "https://www.cnbc.com/world/?region=world/real-estate/\n",
      "https://www.cnbc.com/world/?region=world/energy/\n",
      "https://www.cnbc.com/world/?region=world/climate/\n",
      "https://www.cnbc.com/world/?region=world/transportation/\n",
      "https://www.cnbc.com/world/?region=world/industrials/\n",
      "https://www.cnbc.com/world/?region=world/retail/\n",
      "https://www.cnbc.com/world/?region=world/wealth/\n",
      "https://www.cnbc.com/world/?region=world/life/\n",
      "https://www.cnbc.com/world/?region=world/small-business/\n",
      "https://www.cnbc.com/world/?region=world/investing/\n",
      "https://www.cnbc.com/world/?region=world/personal-finance/\n",
      "https://www.cnbc.com/world/?region=world/fintech/\n",
      "https://www.cnbc.com/world/?region=world/financial-advisors/\n",
      "https://www.cnbc.com/world/?region=world/options-action/\n",
      "https://www.cnbc.com/world/?region=world/etf-street/\n",
      "https://www.cnbc.com/world/?region=world/earnings/\n",
      "https://www.cnbc.com/world/?region=world/trader-talk/\n",
      "https://www.cnbc.com/world/?region=world/technology/\n",
      "https://www.cnbc.com/world/?region=world/cybersecurity/\n",
      "https://www.cnbc.com/world/?region=world/enterprise/\n",
      "https://www.cnbc.com/world/?region=world/internet/\n",
      "https://www.cnbc.com/world/?region=world/media/\n",
      "https://www.cnbc.com/world/?region=world/mobile/\n",
      "https://www.cnbc.com/world/?region=world/social-media/\n",
      "https://www.cnbc.com/world/?region=world/cnbc-disruptors/\n",
      "https://www.cnbc.com/world/?region=world/tech-guide/\n",
      "https://www.cnbc.com/world/?region=world/politics/\n",
      "https://www.cnbc.com/world/?region=world/white-house/\n",
      "https://www.cnbc.com/world/?region=world/policy/\n",
      "https://www.cnbc.com/world/?region=world/defense/\n",
      "https://www.cnbc.com/world/?region=world/congress/\n",
      "https://www.cnbc.com/world/?region=world/equity-opportunity/\n",
      "https://www.cnbc.com/world/?region=world/europe-politics/\n",
      "https://www.cnbc.com/world/?region=world/china-politics/\n",
      "https://www.cnbc.com/world/?region=world/asia-politics/\n",
      "https://www.cnbc.com/world/?region=world/world-politics/\n",
      "https://www.cnbc.com/world/?region=world/tv/\n",
      "https://www.cnbc.com/world/?region=world/live-audio/\n",
      "https://www.cnbc.com/world/?region=world/latest-video/\n",
      "https://www.cnbc.com/world/?region=world/top-video/\n",
      "https://www.cnbc.com/world/?region=world/video-ceo-interviews/\n",
      "https://www.cnbc.com/world/?region=world/europe-television/\n",
      "https://www.cnbc.com/world/?region=world/asia-business-day/\n",
      "https://www.cnbc.com/world/?region=world/podcast/\n",
      "https://www.cnbc.com/world/?region=world/digital-original/\n",
      "https://www.cnbc.com/world/?region=world/watchlist/\n",
      "https://www.cnbc.com/world/?region=world/investingclub/\n",
      "https://www.cnbc.com/world/?region=world/investingclub/charitable-trust/\n",
      "https://www.cnbc.com/world/?region=world/investingclub/analysis/\n",
      "https://www.cnbc.com/world/?region=world/investingclub/trade-alerts/\n",
      "https://www.cnbc.com/world/?region=world/investingclub/video/\n",
      "https://www.cnbc.com/world/?region=world/investingclub/education/\n",
      "https://www.cnbc.com/world/?region=world/pro/\n",
      "https://www.cnbc.com/world/?region=world/pro/news/\n",
      "https://www.cnbc.com/world/?region=world/pro/\n",
      "https://www.cnbc.com/world/?region=world/make-it/\n",
      "https://www.cnbc.com/world/?region=world/?region=usa\n",
      "https://www.cnbc.com/world/?region=world/world/\n",
      "https://www.cnbc.com/world/?region=world/watchlist/\n",
      "https://www.cnbc.com/world/?region=world/\n",
      "https://www.cnbc.com/world/?region=world/markets/\n",
      "https://www.cnbc.com/world/?region=world/business/\n",
      "https://www.cnbc.com/world/?region=world/investing/\n",
      "https://www.cnbc.com/world/?region=world/technology/\n",
      "https://www.cnbc.com/world/?region=world/politics/\n",
      "https://www.cnbc.com/world/?region=world/tv/\n",
      "https://www.cnbc.com/world/?region=world/watchlist/\n",
      "https://www.cnbc.com/world/?region=world/investingclub/\n",
      "https://www.cnbc.com/world/?region=world/pro/\n",
      "https://www.cnbc.com/world/?region=world/pro/\n",
      "https://www.cnbc.com/world/?region=world/pro/\n",
      "https://www.cnbc.com/world/?region=world/pro/\n",
      "https://www.cnbc.com/world/?region=world/pro/\n",
      "https://www.cnbc.com/world/?region=world/pro/\n",
      "https://www.cnbc.com/world/?region=world/pro/\n",
      "https://www.cnbc.com/world/?region=world/investingclub/\n",
      "https://www.cnbc.com/world/?region=world/us-market-movers/\n",
      "https://www.cnbc.com/world/?region=world/pro/\n",
      "https://www.cnbc.com/world/?region=world/pro/\n",
      "https://www.cnbc.com/world/?region=world/pro/\n",
      "https://www.cnbc.com/world/?region=world//www.cnbc.com/us-market-movers/\n",
      "https://www.cnbc.com/world/?region=world/us-market-movers/\n",
      "https://www.cnbc.com/world/?region=world/stocks/\n",
      "https://www.cnbc.com/world/?region=world/pro/\n",
      "https://www.cnbc.com/world/?region=world/pro/\n",
      "https://www.cnbc.com/world/?region=world//www.cnbc.com/live-tv/\n",
      "https://www.cnbc.com/world/?region=world//www.cnbc.com/latest-video/\n",
      "https://www.cnbc.com/world/?region=world/pro/\n",
      "https://www.cnbc.com/world/?region=world/pro/\n",
      "https://www.cnbc.com/world/?region=world/pro/\n",
      "https://www.cnbc.com/world/?region=world/pro/\n",
      "https://www.cnbc.com/world/?region=world/pro/\n",
      "https://www.cnbc.com/world/?region=world//www.cnbc.com\n",
      "https://www.cnbc.com/world/?region=world//www.cnbc.com/application/pro/?__source=pro|globalfooter/\n",
      "https://www.cnbc.com/world/?region=world//www.cnbc.com/cnbc-reprints/\n",
      "https://www.cnbc.com/world/?region=world//www.cnbc.com/digital-products/\n",
      "https://www.cnbc.com/world/?region=world//www.cnbc.com/cnbc-news-releases/\n",
      "https://www.cnbc.com/world/?region=world//www.cnbc.com/closed-captioning/\n",
      "https://www.cnbc.com/world/?region=world//www.cnbc.com/corrections/\n",
      "https://www.cnbc.com/world/?region=world//www.cnbc.com/about-cnbc-international/\n",
      "https://www.cnbc.com/world/?region=world//www.cnbc.com/cnbc-internship-program/\n",
      "https://www.cnbc.com/world/?region=world//www.cnbc.com/site-map/\n",
      "https://www.cnbc.com/world/?region=world//www.cnbc.com/cnbc-careers-and-employment/\n",
      "https://www.cnbc.com/world/?region=world//www.cnbc.com/rss-feeds/\n",
      "https://www.cnbc.com/world/?region=world//www.cnbc.com/news-tips/\n",
      "https://www.cnbc.com/world/?region=world//www.cnbc.com/sign-up-for-cnbc-newsletters/\n",
      "https://www.cnbc.com/world/?region=world/nbcuniversal-terms-of-service/\n",
      "https://www.cnbc.com/world/?region=world/market-data-terms-of-service/\n",
      "https://www.cnbc.com/world/?region=world//www.cnbc.com/market-data-terms-of-service/\n"
     ]
    }
   ],
   "source": [
    "for links in soup.find_all('a'):\n",
    "    link =links.get('href')\n",
    "    if link[0:3]=='../' and link !='#':\n",
    "        print(\"https://www.cnbc.com/world/?region=world\"+ link[2:len(link)])\n",
    "    elif link[0]==\"/\" and link !='#':\n",
    "        print ('https://www.cnbc.com/world/?region=world'+ link)\n",
    "       "
   ]
  },
  {
   "cell_type": "code",
   "execution_count": 8,
   "id": "f0956003",
   "metadata": {},
   "outputs": [],
   "source": [
    "import pandas as pd\n",
    "from bs4 import BeautifulSoup \n",
    "import requests\n",
    "from lxml import html"
   ]
  },
  {
   "cell_type": "code",
   "execution_count": null,
   "id": "76d4fbf1",
   "metadata": {},
   "outputs": [],
   "source": []
  }
 ],
 "metadata": {
  "kernelspec": {
   "display_name": "Python 3 (ipykernel)",
   "language": "python",
   "name": "python3"
  },
  "language_info": {
   "codemirror_mode": {
    "name": "ipython",
    "version": 3
   },
   "file_extension": ".py",
   "mimetype": "text/x-python",
   "name": "python",
   "nbconvert_exporter": "python",
   "pygments_lexer": "ipython3",
   "version": "3.9.7"
  }
 },
 "nbformat": 4,
 "nbformat_minor": 5
}
